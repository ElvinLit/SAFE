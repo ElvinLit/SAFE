{
 "cells": [
  {
   "cell_type": "markdown",
   "id": "c96bac89-1a77-4407-a21a-559ffbaf6811",
   "metadata": {},
   "source": [
    "# Imports"
   ]
  },
  {
   "cell_type": "code",
   "execution_count": 1,
   "id": "ed4b10f6-3abc-49ea-a201-3e0211cb9845",
   "metadata": {},
   "outputs": [],
   "source": [
    "import pandas as pd\n",
    "import numpy as np\n",
    "import matplotlib.pyplot as plt\n",
    "\n",
    "from sklearn.model_selection import train_test_split, GridSearchCV\n",
    "from sklearn.metrics import classification_report, accuracy_score, precision_score, recall_score, f1_score, roc_auc_score, confusion_matrix, mean_squared_error\n",
    "\n",
    "from tqdm import tqdm\n",
    "import time\n",
    "import joblib"
   ]
  },
  {
   "cell_type": "code",
   "execution_count": 2,
   "id": "660178fa-0a26-4b84-a436-27a5a78a4fd2",
   "metadata": {},
   "outputs": [],
   "source": [
    "X_train = np.load('/home/jovyan/ssl-ids/dataset/preprocessed/CIC-IDS-2017/FRI/Botnet/X_train.npy', allow_pickle=True)\n",
    "y_train = np.load('/home/jovyan/ssl-ids/dataset/preprocessed/CIC-IDS-2017/FRI/Botnet/y_train.npy', allow_pickle=True)\n",
    "\n",
    "X_test = np.load('/home/jovyan/ssl-ids/dataset/preprocessed/CIC-IDS-2017/FRI/Botnet/X_test.npy', allow_pickle=True)\n",
    "y_test = np.load('/home/jovyan/ssl-ids/dataset/preprocessed/CIC-IDS-2017/FRI/Botnet/y_test.npy', allow_pickle=True)\n",
    "\n",
    "#X_val = np.load('data/x_val.npy')\n",
    "#y_val = np.load('data/y_val.npy')"
   ]
  },
  {
   "cell_type": "code",
   "execution_count": 108,
   "id": "e4874887-369f-430f-a3f2-e998de2a440e",
   "metadata": {},
   "outputs": [],
   "source": [
    "X_train = np.load('/home/jovyan/ssl-ids/dataset/preprocessed/CIC-IDS-2017/FRI/PortScan/X_train.npy', allow_pickle=True)\n",
    "y_train = np.load('/home/jovyan/ssl-ids/dataset/preprocessed/CIC-IDS-2017/FRI/PortScan/y_train.npy', allow_pickle=True)\n",
    "\n",
    "X_test = np.load('/home/jovyan/ssl-ids/dataset/preprocessed/CIC-IDS-2017/FRI/PortScan/X_test.npy', allow_pickle=True)\n",
    "y_test = np.load('/home/jovyan/ssl-ids/dataset/preprocessed/CIC-IDS-2017/FRI/PortScan/y_test.npy', allow_pickle=True)"
   ]
  },
  {
   "cell_type": "code",
   "execution_count": 72,
   "id": "ef0cd5aa-73f3-4f87-ba2a-35a0aed50cf3",
   "metadata": {},
   "outputs": [],
   "source": [
    "X_train = np.load('/home/jovyan/ssl-ids/dataset/preprocessed/CIC-IDS-2017/FRI/DDoS/X_train.npy', allow_pickle=True)\n",
    "y_train = np.load('/home/jovyan/ssl-ids/dataset/preprocessed/CIC-IDS-2017/FRI/DDoS/y_train.npy', allow_pickle=True)\n",
    "\n",
    "X_test = np.load('/home/jovyan/ssl-ids/dataset/preprocessed/CIC-IDS-2017/FRI/DDoS/X_test.npy', allow_pickle=True)\n",
    "y_test = np.load('/home/jovyan/ssl-ids/dataset/preprocessed/CIC-IDS-2017/FRI/DDoS/y_test.npy', allow_pickle=True)"
   ]
  },
  {
   "cell_type": "code",
   "execution_count": 29,
   "id": "48590b0c-3fbc-455a-9a97-965a85767095",
   "metadata": {},
   "outputs": [],
   "source": [
    "#X_train = np.concatenate((X_train, X_val), axis=0)\n",
    "#y_train = np.concatenate((y_train, y_val), axis=0)"
   ]
  },
  {
   "cell_type": "markdown",
   "id": "40fc21cd-6eab-433c-b413-31022b01b7b4",
   "metadata": {},
   "source": [
    "# Playground"
   ]
  },
  {
   "cell_type": "code",
   "execution_count": 109,
   "id": "430eb414-c717-409d-9f41-9d13e19fdbe6",
   "metadata": {},
   "outputs": [
    {
     "data": {
      "text/plain": [
       "(array(['BENIGN', 'PortScan'], dtype=object), array([ 89066, 111201]))"
      ]
     },
     "execution_count": 109,
     "metadata": {},
     "output_type": "execute_result"
    }
   ],
   "source": [
    "np.unique(y_train, return_counts=True)"
   ]
  },
  {
   "cell_type": "code",
   "execution_count": 110,
   "id": "2eba9a16-f5a5-47fe-8c32-71a45655fd42",
   "metadata": {},
   "outputs": [],
   "source": [
    "normal_data = X_train[y_train == 'BENIGN'] # normal class"
   ]
  },
  {
   "cell_type": "markdown",
   "id": "4d4823bc-9931-47cd-9a67-24a55fa3aaab",
   "metadata": {},
   "source": [
    "# Helpers"
   ]
  },
  {
   "cell_type": "code",
   "execution_count": 111,
   "id": "915b12be-c246-44fc-9cab-14f9704f8f53",
   "metadata": {},
   "outputs": [],
   "source": [
    "def evaluate_model(model, y_test, y_pred):\n",
    "    positive_class = 'normal'\n",
    "    \n",
    "    accuracy = accuracy_score(y_test, y_pred)\n",
    "    \n",
    "    precision = precision_score(y_test, y_pred, pos_label=positive_class, zero_division=True)\n",
    "    recall = recall_score(y_test, y_pred, pos_label=positive_class, zero_division=True)\n",
    "    f1 = f1_score(y_test, y_pred, pos_label=positive_class, zero_division=True)\n",
    "    \n",
    "    metrics = {\n",
    "        'model': [model],\n",
    "        'accuracy': [accuracy],\n",
    "        'precision': [precision],\n",
    "        'recall': [recall],\n",
    "        'f1': [f1],\n",
    "    }\n",
    "    \n",
    "    return metrics"
   ]
  },
  {
   "cell_type": "markdown",
   "id": "1e4cc678-8e9b-453b-bade-c016e3301910",
   "metadata": {
    "tags": []
   },
   "source": [
    "# OCSVM"
   ]
  },
  {
   "cell_type": "code",
   "execution_count": 112,
   "id": "a2535744-38f4-4d53-8104-5877528a9c19",
   "metadata": {},
   "outputs": [],
   "source": [
    "from sklearn.svm import OneClassSVM"
   ]
  },
  {
   "cell_type": "code",
   "execution_count": 113,
   "id": "772cbdf1-b9c0-4fc6-9dc5-6dce553d4c4e",
   "metadata": {},
   "outputs": [
    {
     "name": "stderr",
     "output_type": "stream",
     "text": [
      "Training OCSVM: 100%|██████████| 891/891 [00:32<00:00, 27.03it/s] \n"
     ]
    }
   ],
   "source": [
    "ocsvm = OneClassSVM(kernel='rbf', gamma='auto')\n",
    "\n",
    "batch_size = 100\n",
    "n_batches = int(np.ceil(len(normal_data) / batch_size))\n",
    "\n",
    "for i in tqdm(range(n_batches), desc=\"Training OCSVM\"):\n",
    "    start = i * batch_size\n",
    "    end = min((i + 1) * batch_size, len(normal_data))\n",
    "    batch_data = normal_data[start:end]\n",
    "    \n",
    "    if i == 0:\n",
    "        ocsvm.fit(batch_data)\n",
    "    else:\n",
    "        ocsvm.fit(np.vstack((ocsvm.support_vectors_, batch_data)))"
   ]
  },
  {
   "cell_type": "code",
   "execution_count": null,
   "id": "c0df8315-1fbc-43e8-abfe-c7e2105694e4",
   "metadata": {},
   "outputs": [],
   "source": [
    "ocsvm = OneClassSVM(kernel='linear', gamma='auto')\n",
    "\n",
    "start_time = time.time()\n",
    "\n",
    "ocsvm.fit(normal_data)\n",
    "\n",
    "training_time = time.time() - start_time\n",
    "print(f\"Training Time: {training_time}\")"
   ]
  },
  {
   "cell_type": "code",
   "execution_count": 114,
   "id": "349bd5b6-4f97-483c-942f-d744c52f4484",
   "metadata": {},
   "outputs": [],
   "source": [
    "y_pred_test_ocsvm = ocsvm.predict(X_test)\n",
    "y_pred_test_ocsvm = np.where(y_pred_test_ocsvm == 1, 'normal', 'anomaly')\n",
    "y_test_converted_ocsvm = np.where(y_test == 'BENIGN', 'normal', 'anomaly')"
   ]
  },
  {
   "cell_type": "code",
   "execution_count": 115,
   "id": "7d273b15-8733-499b-a31b-73e5f1a7f3e1",
   "metadata": {},
   "outputs": [
    {
     "data": {
      "text/plain": [
       "{'model': ['ocsvm'],\n",
       " 'accuracy': [0.4431045865858868],\n",
       " 'precision': [0.4441243336469113],\n",
       " 'recall': [0.9862471166818992],\n",
       " 'f1': [0.6124511830921203]}"
      ]
     },
     "execution_count": 115,
     "metadata": {},
     "output_type": "execute_result"
    }
   ],
   "source": [
    "evaluate_model(\"ocsvm\", y_test_converted_ocsvm, y_pred_test_ocsvm)"
   ]
  },
  {
   "cell_type": "code",
   "execution_count": 116,
   "id": "49e5119a-8c58-4bb4-9d49-142f9c1744f8",
   "metadata": {},
   "outputs": [
    {
     "data": {
      "text/html": [
       "<div>\n",
       "<style scoped>\n",
       "    .dataframe tbody tr th:only-of-type {\n",
       "        vertical-align: middle;\n",
       "    }\n",
       "\n",
       "    .dataframe tbody tr th {\n",
       "        vertical-align: top;\n",
       "    }\n",
       "\n",
       "    .dataframe thead th {\n",
       "        text-align: right;\n",
       "    }\n",
       "</style>\n",
       "<table border=\"1\" class=\"dataframe\">\n",
       "  <thead>\n",
       "    <tr style=\"text-align: right;\">\n",
       "      <th></th>\n",
       "      <th>model</th>\n",
       "      <th>accuracy</th>\n",
       "      <th>precision</th>\n",
       "      <th>recall</th>\n",
       "      <th>f1</th>\n",
       "    </tr>\n",
       "  </thead>\n",
       "  <tbody>\n",
       "    <tr>\n",
       "      <th>0</th>\n",
       "      <td>ocsvm</td>\n",
       "      <td>0.443105</td>\n",
       "      <td>0.444124</td>\n",
       "      <td>0.986247</td>\n",
       "      <td>0.612451</td>\n",
       "    </tr>\n",
       "  </tbody>\n",
       "</table>\n",
       "</div>"
      ],
      "text/plain": [
       "   model  accuracy  precision    recall        f1\n",
       "0  ocsvm  0.443105   0.444124  0.986247  0.612451"
      ]
     },
     "execution_count": 116,
     "metadata": {},
     "output_type": "execute_result"
    }
   ],
   "source": [
    "ocsvm_df = pd.DataFrame(evaluate_model(\"ocsvm\", y_test_converted_ocsvm, y_pred_test_ocsvm)) \n",
    "ocsvm_df"
   ]
  },
  {
   "cell_type": "markdown",
   "id": "bbc83c4b-02ef-4e9e-902c-df6eb42b18e3",
   "metadata": {},
   "source": [
    "# SGDOCSVM"
   ]
  },
  {
   "cell_type": "code",
   "execution_count": 117,
   "id": "820daff0-f9f3-4d5c-9606-8c2f9dcd59e0",
   "metadata": {},
   "outputs": [],
   "source": [
    "from sklearn.linear_model import SGDOneClassSVM"
   ]
  },
  {
   "cell_type": "code",
   "execution_count": 118,
   "id": "97266af6-6fa3-42c9-9dec-340e4857083b",
   "metadata": {},
   "outputs": [
    {
     "name": "stdout",
     "output_type": "stream",
     "text": [
      "Training Time: 0.14925837516784668\n"
     ]
    }
   ],
   "source": [
    "sgdocsvm = SGDOneClassSVM()\n",
    "\n",
    "start_time = time.time()\n",
    "\n",
    "sgdocsvm.fit(normal_data)\n",
    "\n",
    "training_time = time.time() - start_time\n",
    "print(f\"Training Time: {training_time}\")"
   ]
  },
  {
   "cell_type": "code",
   "execution_count": 119,
   "id": "b979ec00-2a1c-436a-816e-1593d63cdedf",
   "metadata": {},
   "outputs": [],
   "source": [
    "y_pred_test_sgdocsvm = sgdocsvm.predict(X_test)\n",
    "y_pred_test_sgdocsvm = np.where(y_pred_test_sgdocsvm == 1, 'normal', 'anomaly')\n",
    "y_test_converted_sgdocsvm = np.where(y_test == 'BENIGN', 'normal', 'anomaly')"
   ]
  },
  {
   "cell_type": "code",
   "execution_count": 120,
   "id": "59f36a61-a20c-4e43-954f-2f6daeffe34d",
   "metadata": {},
   "outputs": [
    {
     "data": {
      "text/plain": [
       "{'model': ['sgdocsvm'],\n",
       " 'accuracy': [0.7884578041865703],\n",
       " 'precision': [0.9985970124618305],\n",
       " 'recall': [0.526613570091831],\n",
       " 'f1': [0.6895765657947227]}"
      ]
     },
     "execution_count": 120,
     "metadata": {},
     "output_type": "execute_result"
    }
   ],
   "source": [
    "evaluate_model(\"sgdocsvm\", y_test_converted_sgdocsvm, y_pred_test_sgdocsvm)"
   ]
  },
  {
   "cell_type": "code",
   "execution_count": 121,
   "id": "6f94f95c-d19e-44cb-a52b-f4dae54a8604",
   "metadata": {},
   "outputs": [
    {
     "data": {
      "text/html": [
       "<div>\n",
       "<style scoped>\n",
       "    .dataframe tbody tr th:only-of-type {\n",
       "        vertical-align: middle;\n",
       "    }\n",
       "\n",
       "    .dataframe tbody tr th {\n",
       "        vertical-align: top;\n",
       "    }\n",
       "\n",
       "    .dataframe thead th {\n",
       "        text-align: right;\n",
       "    }\n",
       "</style>\n",
       "<table border=\"1\" class=\"dataframe\">\n",
       "  <thead>\n",
       "    <tr style=\"text-align: right;\">\n",
       "      <th></th>\n",
       "      <th>model</th>\n",
       "      <th>accuracy</th>\n",
       "      <th>precision</th>\n",
       "      <th>recall</th>\n",
       "      <th>f1</th>\n",
       "    </tr>\n",
       "  </thead>\n",
       "  <tbody>\n",
       "    <tr>\n",
       "      <th>0</th>\n",
       "      <td>sgdocsvm</td>\n",
       "      <td>0.788458</td>\n",
       "      <td>0.998597</td>\n",
       "      <td>0.526614</td>\n",
       "      <td>0.689577</td>\n",
       "    </tr>\n",
       "  </tbody>\n",
       "</table>\n",
       "</div>"
      ],
      "text/plain": [
       "      model  accuracy  precision    recall        f1\n",
       "0  sgdocsvm  0.788458   0.998597  0.526614  0.689577"
      ]
     },
     "execution_count": 121,
     "metadata": {},
     "output_type": "execute_result"
    }
   ],
   "source": [
    "sgdocsvm_df = pd.DataFrame(evaluate_model(\"sgdocsvm\", y_test_converted_sgdocsvm, y_pred_test_sgdocsvm)) \n",
    "sgdocsvm_df"
   ]
  },
  {
   "cell_type": "markdown",
   "id": "a14dfdf7-2aa8-4dfd-90fa-4a9975bba0b5",
   "metadata": {},
   "source": [
    "# LOF"
   ]
  },
  {
   "cell_type": "code",
   "execution_count": 122,
   "id": "9c5573c6-f618-4aba-8268-f8f9c0f9a696",
   "metadata": {},
   "outputs": [],
   "source": [
    "from sklearn.neighbors import LocalOutlierFactor"
   ]
  },
  {
   "cell_type": "code",
   "execution_count": 123,
   "id": "1a849c5f-762e-4e31-ac95-48b08489ef53",
   "metadata": {},
   "outputs": [
    {
     "name": "stdout",
     "output_type": "stream",
     "text": [
      "Training Time: 2.3590829372406006\n"
     ]
    }
   ],
   "source": [
    "start_time = time.time()\n",
    "\n",
    "lof = LocalOutlierFactor(n_neighbors=50, contamination=0.001, novelty=True)\n",
    "lof.fit(normal_data)\n",
    "\n",
    "training_time = time.time() - start_time\n",
    "print(f\"Training Time: {training_time}\")"
   ]
  },
  {
   "cell_type": "code",
   "execution_count": 124,
   "id": "68177a04-a84c-4686-a2c5-f3f5bc68c421",
   "metadata": {},
   "outputs": [],
   "source": [
    "y_pred_test_lof = lof.predict(X_test)\n",
    "y_pred_test_lof = np.where(y_pred_test_lof == 1, 'normal', 'anomaly')\n",
    "y_test_converted_lof = np.where(y_test == 'BENIGN', 'normal', 'anomaly')"
   ]
  },
  {
   "cell_type": "code",
   "execution_count": 125,
   "id": "46c434b9-b615-48da-b5a9-db47ca573a55",
   "metadata": {},
   "outputs": [
    {
     "data": {
      "text/plain": [
       "{'model': ['lof'],\n",
       " 'accuracy': [0.4458231387626704],\n",
       " 'precision': [0.445979020979021],\n",
       " 'recall': [0.9992166079122601],\n",
       " 'f1': [0.6167049437930617]}"
      ]
     },
     "execution_count": 125,
     "metadata": {},
     "output_type": "execute_result"
    }
   ],
   "source": [
    "evaluate_model(\"lof\", y_test_converted_lof, y_pred_test_lof)"
   ]
  },
  {
   "cell_type": "code",
   "execution_count": 126,
   "id": "8a98cd1d-d58a-4ee3-82a8-00bf7587cfda",
   "metadata": {},
   "outputs": [
    {
     "data": {
      "text/html": [
       "<div>\n",
       "<style scoped>\n",
       "    .dataframe tbody tr th:only-of-type {\n",
       "        vertical-align: middle;\n",
       "    }\n",
       "\n",
       "    .dataframe tbody tr th {\n",
       "        vertical-align: top;\n",
       "    }\n",
       "\n",
       "    .dataframe thead th {\n",
       "        text-align: right;\n",
       "    }\n",
       "</style>\n",
       "<table border=\"1\" class=\"dataframe\">\n",
       "  <thead>\n",
       "    <tr style=\"text-align: right;\">\n",
       "      <th></th>\n",
       "      <th>model</th>\n",
       "      <th>accuracy</th>\n",
       "      <th>precision</th>\n",
       "      <th>recall</th>\n",
       "      <th>f1</th>\n",
       "    </tr>\n",
       "  </thead>\n",
       "  <tbody>\n",
       "    <tr>\n",
       "      <th>0</th>\n",
       "      <td>lof</td>\n",
       "      <td>0.445823</td>\n",
       "      <td>0.445979</td>\n",
       "      <td>0.999217</td>\n",
       "      <td>0.616705</td>\n",
       "    </tr>\n",
       "  </tbody>\n",
       "</table>\n",
       "</div>"
      ],
      "text/plain": [
       "  model  accuracy  precision    recall        f1\n",
       "0   lof  0.445823   0.445979  0.999217  0.616705"
      ]
     },
     "execution_count": 126,
     "metadata": {},
     "output_type": "execute_result"
    }
   ],
   "source": [
    "lof_df = pd.DataFrame(evaluate_model(\"lof\", y_test_converted_lof, y_pred_test_lof)) \n",
    "lof_df"
   ]
  },
  {
   "cell_type": "markdown",
   "id": "4ea7340e-6c41-43ff-8c37-cf190444e88c",
   "metadata": {
    "tags": []
   },
   "source": [
    "# IF"
   ]
  },
  {
   "cell_type": "code",
   "execution_count": 127,
   "id": "7bf0d08f-86a8-4522-ac27-5c861e0c810f",
   "metadata": {},
   "outputs": [],
   "source": [
    "from sklearn.ensemble import IsolationForest"
   ]
  },
  {
   "cell_type": "code",
   "execution_count": 128,
   "id": "ac29cbaf-eb51-4652-8f2b-aacc142f2ec0",
   "metadata": {},
   "outputs": [
    {
     "name": "stdout",
     "output_type": "stream",
     "text": [
      "Training Time: 11.943435668945312\n"
     ]
    }
   ],
   "source": [
    "start_time = time.time()\n",
    "\n",
    "iforest = IsolationForest(n_estimators=200, max_samples=128, contamination=0.001, random_state=21)\n",
    "iforest.fit(normal_data)\n",
    "\n",
    "training_time = time.time() - start_time\n",
    "print(f\"Training Time: {training_time}\")"
   ]
  },
  {
   "cell_type": "code",
   "execution_count": 129,
   "id": "dad3d3fa-45fe-412b-acc3-1df7e5813843",
   "metadata": {},
   "outputs": [],
   "source": [
    "y_pred_test_if = iforest.predict(X_test)\n",
    "y_pred_test_if = np.where(y_pred_test_if == 1, 'normal', 'anomaly')\n",
    "y_test_converted_if = np.where(y_test == \"BENIGN\", 'normal', 'anomaly')"
   ]
  },
  {
   "cell_type": "code",
   "execution_count": 130,
   "id": "71e9f1d0-abd9-4d5a-9550-e3d162d11485",
   "metadata": {},
   "outputs": [
    {
     "data": {
      "text/plain": [
       "{'model': ['if'],\n",
       " 'accuracy': [0.4456872111538312],\n",
       " 'precision': [0.44590367765624694],\n",
       " 'recall': [0.9989119554336946],\n",
       " 'f1': [0.6165748824714573]}"
      ]
     },
     "execution_count": 130,
     "metadata": {},
     "output_type": "execute_result"
    }
   ],
   "source": [
    "evaluate_model(\"if\", y_test_converted_if, y_pred_test_if)"
   ]
  },
  {
   "cell_type": "code",
   "execution_count": 131,
   "id": "45e29fd4-eda0-46e3-8c4d-0d088082ee8c",
   "metadata": {},
   "outputs": [
    {
     "data": {
      "text/html": [
       "<div>\n",
       "<style scoped>\n",
       "    .dataframe tbody tr th:only-of-type {\n",
       "        vertical-align: middle;\n",
       "    }\n",
       "\n",
       "    .dataframe tbody tr th {\n",
       "        vertical-align: top;\n",
       "    }\n",
       "\n",
       "    .dataframe thead th {\n",
       "        text-align: right;\n",
       "    }\n",
       "</style>\n",
       "<table border=\"1\" class=\"dataframe\">\n",
       "  <thead>\n",
       "    <tr style=\"text-align: right;\">\n",
       "      <th></th>\n",
       "      <th>model</th>\n",
       "      <th>accuracy</th>\n",
       "      <th>precision</th>\n",
       "      <th>recall</th>\n",
       "      <th>f1</th>\n",
       "    </tr>\n",
       "  </thead>\n",
       "  <tbody>\n",
       "    <tr>\n",
       "      <th>0</th>\n",
       "      <td>if</td>\n",
       "      <td>0.445687</td>\n",
       "      <td>0.445904</td>\n",
       "      <td>0.998912</td>\n",
       "      <td>0.616575</td>\n",
       "    </tr>\n",
       "  </tbody>\n",
       "</table>\n",
       "</div>"
      ],
      "text/plain": [
       "  model  accuracy  precision    recall        f1\n",
       "0    if  0.445687   0.445904  0.998912  0.616575"
      ]
     },
     "execution_count": 131,
     "metadata": {},
     "output_type": "execute_result"
    }
   ],
   "source": [
    "if_df = pd.DataFrame(evaluate_model(\"if\", y_test_converted_if, y_pred_test_if)) \n",
    "if_df"
   ]
  },
  {
   "cell_type": "markdown",
   "id": "f96dab5e-85ee-4878-86ce-dcc50ae67188",
   "metadata": {},
   "source": [
    "# PCA Reconstruction"
   ]
  },
  {
   "cell_type": "code",
   "execution_count": 132,
   "id": "08d4a4ca-8117-475b-82ec-5108ca921b89",
   "metadata": {},
   "outputs": [],
   "source": [
    "from sklearn.decomposition import PCA"
   ]
  },
  {
   "cell_type": "code",
   "execution_count": 133,
   "id": "1516dd83-40ed-4b04-996e-e989cf028b21",
   "metadata": {},
   "outputs": [
    {
     "name": "stdout",
     "output_type": "stream",
     "text": [
      "Training Time: 0.21074199676513672\n"
     ]
    }
   ],
   "source": [
    "start_time = time.time()\n",
    "\n",
    "pca = PCA(n_components=10)\n",
    "pca.fit(normal_data)\n",
    "\n",
    "training_time = time.time() - start_time\n",
    "print(f\"Training Time: {training_time}\")"
   ]
  },
  {
   "cell_type": "code",
   "execution_count": 134,
   "id": "72055a32-82ab-4c22-885b-033ae068ded7",
   "metadata": {},
   "outputs": [],
   "source": [
    "normal_data_pca = pca.transform(normal_data)\n",
    "normal_data_reconstructed = pca.inverse_transform(normal_data_pca)\n",
    "\n",
    "train_reconstruction_error = np.mean((normal_data - normal_data_reconstructed) ** 2, axis=1)"
   ]
  },
  {
   "cell_type": "code",
   "execution_count": 135,
   "id": "c3728c2b-a3e9-45b6-be1a-8939c8fc5e4b",
   "metadata": {},
   "outputs": [],
   "source": [
    "threshold = np.percentile(train_reconstruction_error, 95)"
   ]
  },
  {
   "cell_type": "code",
   "execution_count": 136,
   "id": "e6c23803-5bae-48f6-a597-55ffe6474cd7",
   "metadata": {},
   "outputs": [],
   "source": [
    "X_test_pca = pca.transform(X_test)\n",
    "X_test_reconstructed = pca.inverse_transform(X_test_pca)\n",
    "\n",
    "test_reconstruction_error = np.mean((X_test - X_test_reconstructed) ** 2, axis=1)"
   ]
  },
  {
   "cell_type": "code",
   "execution_count": 137,
   "id": "27a0f31b-6134-4038-9ac9-d89f150f0cb5",
   "metadata": {},
   "outputs": [
    {
     "data": {
      "text/plain": [
       "array([0.28893681, 0.11478281, 0.11682281, ..., 0.11938117, 0.32031757,\n",
       "       0.1151785 ])"
      ]
     },
     "execution_count": 137,
     "metadata": {},
     "output_type": "execute_result"
    }
   ],
   "source": [
    "test_reconstruction_error"
   ]
  },
  {
   "cell_type": "code",
   "execution_count": 138,
   "id": "17d9ee7f-ec5e-415d-8ff9-ddc9a94188ae",
   "metadata": {},
   "outputs": [],
   "source": [
    "y_pred_test_pca = (test_reconstruction_error > threshold).astype(int)\n",
    "y_pred_test_pca = np.where(y_pred_test_pca == 1, 'normal', 'anomaly')\n",
    "y_test_converted_pca = np.where(y_test == \"BENIGN\", 'normal', 'anomaly')"
   ]
  },
  {
   "cell_type": "code",
   "execution_count": 139,
   "id": "4eb83350-a55a-41d5-846e-9fe95fa19557",
   "metadata": {},
   "outputs": [
    {
     "data": {
      "text/plain": [
       "{'model': ['pca'],\n",
       " 'accuracy': [0.5736533457610005],\n",
       " 'precision': [0.918785890073831],\n",
       " 'recall': [0.048744396570483524],\n",
       " 'f1': [0.0925772855017358]}"
      ]
     },
     "execution_count": 139,
     "metadata": {},
     "output_type": "execute_result"
    }
   ],
   "source": [
    "evaluate_model(\"pca\", y_test_converted_pca, y_pred_test_pca)"
   ]
  },
  {
   "cell_type": "code",
   "execution_count": 140,
   "id": "46898548-6f62-4094-b23e-613c447071b2",
   "metadata": {},
   "outputs": [
    {
     "data": {
      "text/html": [
       "<div>\n",
       "<style scoped>\n",
       "    .dataframe tbody tr th:only-of-type {\n",
       "        vertical-align: middle;\n",
       "    }\n",
       "\n",
       "    .dataframe tbody tr th {\n",
       "        vertical-align: top;\n",
       "    }\n",
       "\n",
       "    .dataframe thead th {\n",
       "        text-align: right;\n",
       "    }\n",
       "</style>\n",
       "<table border=\"1\" class=\"dataframe\">\n",
       "  <thead>\n",
       "    <tr style=\"text-align: right;\">\n",
       "      <th></th>\n",
       "      <th>model</th>\n",
       "      <th>accuracy</th>\n",
       "      <th>precision</th>\n",
       "      <th>recall</th>\n",
       "      <th>f1</th>\n",
       "    </tr>\n",
       "  </thead>\n",
       "  <tbody>\n",
       "    <tr>\n",
       "      <th>0</th>\n",
       "      <td>pca</td>\n",
       "      <td>0.573653</td>\n",
       "      <td>0.918786</td>\n",
       "      <td>0.048744</td>\n",
       "      <td>0.092577</td>\n",
       "    </tr>\n",
       "  </tbody>\n",
       "</table>\n",
       "</div>"
      ],
      "text/plain": [
       "  model  accuracy  precision    recall        f1\n",
       "0   pca  0.573653   0.918786  0.048744  0.092577"
      ]
     },
     "execution_count": 140,
     "metadata": {},
     "output_type": "execute_result"
    }
   ],
   "source": [
    "pca_df = pd.DataFrame(evaluate_model(\"pca\", y_test_converted_pca, y_pred_test_pca)) \n",
    "pca_df"
   ]
  },
  {
   "cell_type": "markdown",
   "id": "ee501f31-d109-4f70-8c17-0da91048985a",
   "metadata": {},
   "source": [
    "# Results"
   ]
  },
  {
   "cell_type": "code",
   "execution_count": 35,
   "id": "ce8fa937-5790-4561-85da-1a783442f9b8",
   "metadata": {},
   "outputs": [
    {
     "data": {
      "text/html": [
       "<div>\n",
       "<style scoped>\n",
       "    .dataframe tbody tr th:only-of-type {\n",
       "        vertical-align: middle;\n",
       "    }\n",
       "\n",
       "    .dataframe tbody tr th {\n",
       "        vertical-align: top;\n",
       "    }\n",
       "\n",
       "    .dataframe thead th {\n",
       "        text-align: right;\n",
       "    }\n",
       "</style>\n",
       "<table border=\"1\" class=\"dataframe\">\n",
       "  <thead>\n",
       "    <tr style=\"text-align: right;\">\n",
       "      <th></th>\n",
       "      <th>model</th>\n",
       "      <th>accuracy</th>\n",
       "      <th>precision</th>\n",
       "      <th>recall</th>\n",
       "      <th>f1</th>\n",
       "    </tr>\n",
       "  </thead>\n",
       "  <tbody>\n",
       "    <tr>\n",
       "      <th>0</th>\n",
       "      <td>ocsvm</td>\n",
       "      <td>0.985509</td>\n",
       "      <td>0.990203</td>\n",
       "      <td>0.995209</td>\n",
       "      <td>0.992700</td>\n",
       "    </tr>\n",
       "    <tr>\n",
       "      <th>1</th>\n",
       "      <td>sgdocsvm</td>\n",
       "      <td>0.683573</td>\n",
       "      <td>0.985976</td>\n",
       "      <td>0.690200</td>\n",
       "      <td>0.811992</td>\n",
       "    </tr>\n",
       "    <tr>\n",
       "      <th>2</th>\n",
       "      <td>lof</td>\n",
       "      <td>0.989379</td>\n",
       "      <td>0.990013</td>\n",
       "      <td>0.999353</td>\n",
       "      <td>0.994661</td>\n",
       "    </tr>\n",
       "    <tr>\n",
       "      <th>3</th>\n",
       "      <td>if</td>\n",
       "      <td>0.989408</td>\n",
       "      <td>0.990013</td>\n",
       "      <td>0.999383</td>\n",
       "      <td>0.994676</td>\n",
       "    </tr>\n",
       "    <tr>\n",
       "      <th>4</th>\n",
       "      <td>pca</td>\n",
       "      <td>0.058519</td>\n",
       "      <td>0.991166</td>\n",
       "      <td>0.049468</td>\n",
       "      <td>0.094233</td>\n",
       "    </tr>\n",
       "  </tbody>\n",
       "</table>\n",
       "</div>"
      ],
      "text/plain": [
       "      model  accuracy  precision    recall        f1\n",
       "0     ocsvm  0.985509   0.990203  0.995209  0.992700\n",
       "1  sgdocsvm  0.683573   0.985976  0.690200  0.811992\n",
       "2       lof  0.989379   0.990013  0.999353  0.994661\n",
       "3        if  0.989408   0.990013  0.999383  0.994676\n",
       "4       pca  0.058519   0.991166  0.049468  0.094233"
      ]
     },
     "execution_count": 35,
     "metadata": {},
     "output_type": "execute_result"
    }
   ],
   "source": [
    "results_df = pd.concat([ocsvm_df, sgdocsvm_df, lof_df, if_df, pca_df], ignore_index=True)\n",
    "results_df.to_csv('/home/jovyan/ssl-ids/result/CIC-IDS-2017/FRI/results_cic_ids_2017_fri_botnet.csv', index=False)\n",
    "\n",
    "results_df"
   ]
  },
  {
   "cell_type": "code",
   "execution_count": 141,
   "id": "6e67a845-d7ae-4d56-9cbe-4f1b35e4a2c7",
   "metadata": {},
   "outputs": [
    {
     "data": {
      "text/html": [
       "<div>\n",
       "<style scoped>\n",
       "    .dataframe tbody tr th:only-of-type {\n",
       "        vertical-align: middle;\n",
       "    }\n",
       "\n",
       "    .dataframe tbody tr th {\n",
       "        vertical-align: top;\n",
       "    }\n",
       "\n",
       "    .dataframe thead th {\n",
       "        text-align: right;\n",
       "    }\n",
       "</style>\n",
       "<table border=\"1\" class=\"dataframe\">\n",
       "  <thead>\n",
       "    <tr style=\"text-align: right;\">\n",
       "      <th></th>\n",
       "      <th>model</th>\n",
       "      <th>accuracy</th>\n",
       "      <th>precision</th>\n",
       "      <th>recall</th>\n",
       "      <th>f1</th>\n",
       "    </tr>\n",
       "  </thead>\n",
       "  <tbody>\n",
       "    <tr>\n",
       "      <th>0</th>\n",
       "      <td>ocsvm</td>\n",
       "      <td>0.443105</td>\n",
       "      <td>0.444124</td>\n",
       "      <td>0.986247</td>\n",
       "      <td>0.612451</td>\n",
       "    </tr>\n",
       "    <tr>\n",
       "      <th>1</th>\n",
       "      <td>sgdocsvm</td>\n",
       "      <td>0.788458</td>\n",
       "      <td>0.998597</td>\n",
       "      <td>0.526614</td>\n",
       "      <td>0.689577</td>\n",
       "    </tr>\n",
       "    <tr>\n",
       "      <th>2</th>\n",
       "      <td>lof</td>\n",
       "      <td>0.445823</td>\n",
       "      <td>0.445979</td>\n",
       "      <td>0.999217</td>\n",
       "      <td>0.616705</td>\n",
       "    </tr>\n",
       "    <tr>\n",
       "      <th>3</th>\n",
       "      <td>if</td>\n",
       "      <td>0.445687</td>\n",
       "      <td>0.445904</td>\n",
       "      <td>0.998912</td>\n",
       "      <td>0.616575</td>\n",
       "    </tr>\n",
       "    <tr>\n",
       "      <th>4</th>\n",
       "      <td>pca</td>\n",
       "      <td>0.573653</td>\n",
       "      <td>0.918786</td>\n",
       "      <td>0.048744</td>\n",
       "      <td>0.092577</td>\n",
       "    </tr>\n",
       "  </tbody>\n",
       "</table>\n",
       "</div>"
      ],
      "text/plain": [
       "      model  accuracy  precision    recall        f1\n",
       "0     ocsvm  0.443105   0.444124  0.986247  0.612451\n",
       "1  sgdocsvm  0.788458   0.998597  0.526614  0.689577\n",
       "2       lof  0.445823   0.445979  0.999217  0.616705\n",
       "3        if  0.445687   0.445904  0.998912  0.616575\n",
       "4       pca  0.573653   0.918786  0.048744  0.092577"
      ]
     },
     "execution_count": 141,
     "metadata": {},
     "output_type": "execute_result"
    }
   ],
   "source": [
    "results_df = pd.concat([ocsvm_df, sgdocsvm_df, lof_df, if_df, pca_df], ignore_index=True)\n",
    "results_df.to_csv('/home/jovyan/ssl-ids/result/CIC-IDS-2017/FRI/results_cic_ids_2017_fri_portscan.csv', index=False)\n",
    "\n",
    "results_df"
   ]
  },
  {
   "cell_type": "code",
   "execution_count": 106,
   "id": "7dd4fc7b-ffad-4897-a602-0ed7ce2a9031",
   "metadata": {},
   "outputs": [
    {
     "data": {
      "text/html": [
       "<div>\n",
       "<style scoped>\n",
       "    .dataframe tbody tr th:only-of-type {\n",
       "        vertical-align: middle;\n",
       "    }\n",
       "\n",
       "    .dataframe tbody tr th {\n",
       "        vertical-align: top;\n",
       "    }\n",
       "\n",
       "    .dataframe thead th {\n",
       "        text-align: right;\n",
       "    }\n",
       "</style>\n",
       "<table border=\"1\" class=\"dataframe\">\n",
       "  <thead>\n",
       "    <tr style=\"text-align: right;\">\n",
       "      <th></th>\n",
       "      <th>model</th>\n",
       "      <th>accuracy</th>\n",
       "      <th>precision</th>\n",
       "      <th>recall</th>\n",
       "      <th>f1</th>\n",
       "    </tr>\n",
       "  </thead>\n",
       "  <tbody>\n",
       "    <tr>\n",
       "      <th>0</th>\n",
       "      <td>ocsvm</td>\n",
       "      <td>0.606414</td>\n",
       "      <td>0.523785</td>\n",
       "      <td>0.992376</td>\n",
       "      <td>0.685668</td>\n",
       "    </tr>\n",
       "    <tr>\n",
       "      <th>1</th>\n",
       "      <td>sgdocsvm</td>\n",
       "      <td>0.810160</td>\n",
       "      <td>0.999494</td>\n",
       "      <td>0.561422</td>\n",
       "      <td>0.718986</td>\n",
       "    </tr>\n",
       "    <tr>\n",
       "      <th>2</th>\n",
       "      <td>lof</td>\n",
       "      <td>0.432007</td>\n",
       "      <td>0.432251</td>\n",
       "      <td>0.998691</td>\n",
       "      <td>0.603358</td>\n",
       "    </tr>\n",
       "    <tr>\n",
       "      <th>3</th>\n",
       "      <td>if</td>\n",
       "      <td>0.432228</td>\n",
       "      <td>0.432377</td>\n",
       "      <td>0.999203</td>\n",
       "      <td>0.603574</td>\n",
       "    </tr>\n",
       "    <tr>\n",
       "      <th>4</th>\n",
       "      <td>pca</td>\n",
       "      <td>0.399591</td>\n",
       "      <td>0.103131</td>\n",
       "      <td>0.050413</td>\n",
       "      <td>0.067721</td>\n",
       "    </tr>\n",
       "  </tbody>\n",
       "</table>\n",
       "</div>"
      ],
      "text/plain": [
       "      model  accuracy  precision    recall        f1\n",
       "0     ocsvm  0.606414   0.523785  0.992376  0.685668\n",
       "1  sgdocsvm  0.810160   0.999494  0.561422  0.718986\n",
       "2       lof  0.432007   0.432251  0.998691  0.603358\n",
       "3        if  0.432228   0.432377  0.999203  0.603574\n",
       "4       pca  0.399591   0.103131  0.050413  0.067721"
      ]
     },
     "execution_count": 106,
     "metadata": {},
     "output_type": "execute_result"
    }
   ],
   "source": [
    "results_df = pd.concat([ocsvm_df, sgdocsvm_df, lof_df, if_df, pca_df], ignore_index=True)\n",
    "results_df.to_csv('/home/jovyan/ssl-ids/result/CIC-IDS-2017/FRI/results_cic_ids_2017_fri_ddos.csv', index=False)\n",
    "\n",
    "results_df"
   ]
  },
  {
   "cell_type": "code",
   "execution_count": 36,
   "id": "ec157cda-fbde-4d13-be41-980e14e35d84",
   "metadata": {},
   "outputs": [
    {
     "data": {
      "text/plain": [
       "['/home/jovyan/ssl-ids/model/CIC-IDS-2017/FRI/Botnet/pca.pkl']"
      ]
     },
     "execution_count": 36,
     "metadata": {},
     "output_type": "execute_result"
    }
   ],
   "source": [
    "joblib.dump(ocsvm, '/home/jovyan/ssl-ids/model/CIC-IDS-2017/FRI/Botnet/ocsvm.pkl')\n",
    "joblib.dump(sgdocsvm_df, '/home/jovyan/ssl-ids/model/CIC-IDS-2017/FRI/Botnet/sgdocsvm_df.pkl')\n",
    "joblib.dump(lof, '/home/jovyan/ssl-ids/model/CIC-IDS-2017/FRI/Botnet/lof.pkl')\n",
    "joblib.dump(iforest, '/home/jovyan/ssl-ids/model/CIC-IDS-2017/FRI/Botnet/iforest.pkl')\n",
    "joblib.dump(pca, '/home/jovyan/ssl-ids/model/CIC-IDS-2017/FRI/Botnet/pca.pkl')"
   ]
  },
  {
   "cell_type": "code",
   "execution_count": 142,
   "id": "c3ce9cbe-6414-415d-a5e2-2164378c63c0",
   "metadata": {},
   "outputs": [
    {
     "data": {
      "text/plain": [
       "['/home/jovyan/ssl-ids/model/CIC-IDS-2017/FRI/PortScan/pca.pkl']"
      ]
     },
     "execution_count": 142,
     "metadata": {},
     "output_type": "execute_result"
    }
   ],
   "source": [
    "joblib.dump(ocsvm, '/home/jovyan/ssl-ids/model/CIC-IDS-2017/FRI/PortScan/ocsvm.pkl')\n",
    "joblib.dump(sgdocsvm_df, '/home/jovyan/ssl-ids/model/CIC-IDS-2017/FRI/PortScan/sgdocsvm_df.pkl')\n",
    "joblib.dump(lof, '/home/jovyan/ssl-ids/model/CIC-IDS-2017/FRI/PortScan/lof.pkl')\n",
    "joblib.dump(iforest, '/home/jovyan/ssl-ids/model/CIC-IDS-2017/FRI/PortScan/iforest.pkl')\n",
    "joblib.dump(pca, '/home/jovyan/ssl-ids/model/CIC-IDS-2017/FRI/PortScan/pca.pkl')"
   ]
  },
  {
   "cell_type": "code",
   "execution_count": 107,
   "id": "5db90dc3-810a-418a-a1ab-20af44e149f8",
   "metadata": {},
   "outputs": [
    {
     "data": {
      "text/plain": [
       "['/home/jovyan/ssl-ids/model/CIC-IDS-2017/FRI/DDoS/pca.pkl']"
      ]
     },
     "execution_count": 107,
     "metadata": {},
     "output_type": "execute_result"
    }
   ],
   "source": [
    "joblib.dump(ocsvm, '/home/jovyan/ssl-ids/model/CIC-IDS-2017/FRI/DDoS/ocsvm.pkl')\n",
    "joblib.dump(sgdocsvm_df, '/home/jovyan/ssl-ids/model/CIC-IDS-2017/FRI/DDoS/sgdocsvm_df.pkl')\n",
    "joblib.dump(lof, '/home/jovyan/ssl-ids/model/CIC-IDS-2017/FRI/DDoS/lof.pkl')\n",
    "joblib.dump(iforest, '/home/jovyan/ssl-ids/model/CIC-IDS-2017/FRI/DDoS/iforest.pkl')\n",
    "joblib.dump(pca, '/home/jovyan/ssl-ids/model/CIC-IDS-2017/FRI/DDoS/pca.pkl')"
   ]
  },
  {
   "cell_type": "code",
   "execution_count": null,
   "id": "80506435-d0a8-4a93-ba86-d8e892dd8745",
   "metadata": {},
   "outputs": [],
   "source": []
  }
 ],
 "metadata": {
  "kernelspec": {
   "display_name": "Python 3 (ipykernel)",
   "language": "python",
   "name": "python3"
  },
  "language_info": {
   "codemirror_mode": {
    "name": "ipython",
    "version": 3
   },
   "file_extension": ".py",
   "mimetype": "text/x-python",
   "name": "python",
   "nbconvert_exporter": "python",
   "pygments_lexer": "ipython3",
   "version": "3.11.5"
  }
 },
 "nbformat": 4,
 "nbformat_minor": 5
}
